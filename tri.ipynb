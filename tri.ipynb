{
 "cells": [
  {
   "cell_type": "code",
   "execution_count": 17,
   "metadata": {},
   "outputs": [],
   "source": [
    "import numpy as np\n",
    "def ss(A, jj):\n",
    "    \"\"\"Subfunction for h_trid.\"\"\"\n",
    "    return np.sqrt(np.sum(A[jj + 1:, jj] ** 2))\n",
    "\n",
    "def h_trid(A):\n",
    "    \"\"\"\n",
    "    H_TRID(A) uses Householder method to form a tridiagonal matrix from A.\n",
    "    Must have a SQUARE SYMMETRIC matrix as the input.\n",
    "    \"\"\"\n",
    "    M, N = A.shape\n",
    "    if M != N or (A != A.T).any():  # This just screens matrices that can't work.\n",
    "        raise ValueError(\"Matrix must be square symmetric only, see help.\")\n",
    "\n",
    "    lngth = len(A)  # Preallocations.\n",
    "    v = np.zeros(lngth)\n",
    "    I = np.eye(lngth)\n",
    "    Aold = A\n",
    "    finalP=np.eye(lngth)\n",
    "    for jj in range(lngth - 2):  # Build each vector j and run the whole procedure.\n",
    "        v[:jj] = 0\n",
    "        S = ss(Aold, jj)\n",
    "        v[jj + 1] = np.sqrt(0.5 * (1 + abs(Aold[jj + 1, jj]) / (S + 2 * np.finfo(float).eps)))\n",
    "        v[jj + 2:] = Aold[jj + 2:, jj] * np.sign(Aold[jj + 1, jj]) / (2 * v[jj + 1] * S + 2 * np.finfo(float).eps)\n",
    "        P = I - 2 * np.outer(v, v)\n",
    "        Anew = P @ Aold @ P\n",
    "        Aold = Anew\n",
    "        finalP=finalP@P\n",
    "    Anew[abs(Anew) < 5e-14] = 0  # Tolerance.\n",
    "\n",
    "    return Anew,finalP"
   ]
  },
  {
   "cell_type": "code",
   "execution_count": 24,
   "metadata": {},
   "outputs": [
    {
     "name": "stdout",
     "output_type": "stream",
     "text": [
      "[[0 2 3]\n",
      " [2 5 6]\n",
      " [3 6 0]]\n",
      "[[ 0.00000000e+00 -3.60555128e+00 -6.66133815e-16]\n",
      " [-3.60555128e+00  7.07692308e+00  4.61538462e+00]\n",
      " [-6.66133815e-16  4.61538462e+00 -2.07692308e+00]]\n",
      "[[ 0.00000000e+00  2.00000000e+00  3.00000000e+00]\n",
      " [ 2.00000000e+00  5.00000000e+00  6.00000000e+00]\n",
      " [ 3.00000000e+00  6.00000000e+00 -2.22044605e-15]]\n",
      "[[ 1.00000000e+00  0.00000000e+00  0.00000000e+00]\n",
      " [ 0.00000000e+00  1.00000000e+00 -1.64887082e-16]\n",
      " [ 0.00000000e+00 -1.64887082e-16  1.00000000e+00]]\n"
     ]
    },
    {
     "data": {
      "text/plain": [
       "2.220446049250313e-16"
      ]
     },
     "execution_count": 24,
     "metadata": {},
     "output_type": "execute_result"
    }
   ],
   "source": [
    "# Test with a matrix\n",
    "A = np.array([[0, 2, 3],\n",
    " [2, 5, 6],\n",
    "  [3, 6, 0]])\n",
    "print(A)\n",
    "# Output:\n",
    "# [[1 2 3]\n",
    "#  [4 5 6]\n",
    "#  [7 8 9]]\n",
    "\n",
    "T,Q = h_trid(A)\n",
    "print(Q.T@A@Q)\n",
    "print(Q@T@Q.T)\n",
    "# Output:\n",
    "# [[ 5.  4.  3.]\n",
    "#  [ 0. -3. -2.]\n",
    "#  [ 0.  0. -1.]]\n",
    "print(Q@Q.T)\n",
    "# Output:\n",
    "# [[ 1.  0.  0.]\n",
    "#  [ 0.  0. -1.]\n",
    "#  [ 0.  1.  0.]]\n",
    "np.finfo(float).eps\n"
   ]
  }
 ],
 "metadata": {
  "kernelspec": {
   "display_name": "base",
   "language": "python",
   "name": "python3"
  },
  "language_info": {
   "codemirror_mode": {
    "name": "ipython",
    "version": 3
   },
   "file_extension": ".py",
   "mimetype": "text/x-python",
   "name": "python",
   "nbconvert_exporter": "python",
   "pygments_lexer": "ipython3",
   "version": "3.8.8"
  },
  "orig_nbformat": 4,
  "vscode": {
   "interpreter": {
    "hash": "734ab24b5d337aa3083f37141e45635523032b38e37867a0b0460a6855b4b5f7"
   }
  }
 },
 "nbformat": 4,
 "nbformat_minor": 2
}
