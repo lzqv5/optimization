{
 "cells": [
  {
   "cell_type": "code",
   "execution_count": 57,
   "metadata": {},
   "outputs": [],
   "source": [
    "from tqdm import tqdm, trange\n",
    "from libsvm.svmutil import svm_read_problem # https://blog.csdn.net/u013630349/article/details/47323883\n",
    "from time import time\n",
    "\n",
    "import cvxpy as cp\n",
    "import matplotlib.pyplot as plt\n",
    "import numpy as np\n",
    "import pandas as pd\n",
    "\n",
    "def read_data(path):\n",
    "    b, A = svm_read_problem(path)\n",
    "    rows = len(b)   # 矩阵行数, i.e. sample 数\n",
    "    cols = max([max(row.keys()) if len(row)>0 else 0 for row in A])  # 矩阵列数, i.e. feature 数\n",
    "    b = np.array(b)\n",
    "    A_np = np.zeros((rows,cols))\n",
    "    for r in range(rows):\n",
    "        for c in A[r].keys():\n",
    "            # MatLab 是 1-index, python 则是 0-index\n",
    "            A_np[r,c-1] = A[r][c]\n",
    "    # 清楚全 0 features\n",
    "    effective_row_ids = []\n",
    "    for idx, row in enumerate(A_np):\n",
    "        if True or np.sum(row) > 1e-3:\n",
    "            effective_row_ids.append(idx)\n",
    "    return b[effective_row_ids], A_np[effective_row_ids]\n",
    "\n",
    "\n",
    "def solve_tridiagonal_system(diag: np.ndarray, subdiag: np.ndarray, tau: float, b: np.ndarray, x: np.ndarray, buffer: np.ndarray) -> np.ndarray:\n",
    "    n = diag.shape[0]\n",
    "    c = np.zeros(n - 1)\n",
    "    d = np.zeros(n)\n",
    "\n",
    "    c[0] = subdiag[0] / (diag[0] + tau)\n",
    "    d[0] = b[0] / (diag[0] + tau)\n",
    "    for i in range(1, n - 1):\n",
    "        w = diag[i] + tau - subdiag[i - 1] * c[i - 1]\n",
    "        c[i] = subdiag[i] / w\n",
    "        d[i] = (b[i] - subdiag[i - 1] * d[i - 1]) / w\n",
    "    d[n - 1] = (b[n - 1] - subdiag[n - 2] * d[n - 2]) / (diag[n - 1] + tau - subdiag[n - 2] * c[n - 2])\n",
    "    for i in range(n - 2, -1, -1):\n",
    "        d[i] -= c[i] * d[i + 1]\n",
    "\n",
    "    return d\n",
    "\n",
    "\n",
    "def minimize_quadratic_on_l2_ball(g: np.ndarray, H: np.ndarray, R: float, inner_eps: float) -> np.ndarray:\n",
    "    n = g.shape[0]\n",
    "\n",
    "    H_tridiag, Q = np.linalg.qr(H)\n",
    "    diag = np.diag(H_tridiag)\n",
    "    subdiag = np.diag(H_tridiag, k=-1)\n",
    "    g_ = Q.T.dot(g)\n",
    "\n",
    "    tau = 1.0\n",
    "    S_tau = np.zeros(n)\n",
    "    buffer = np.zeros(n - 1)\n",
    "    S_tau_norm = 0.0\n",
    "    phi_tau = 0.0\n",
    "\n",
    "    N_LINE_SEARCH_ITERS = 100\n",
    "    for i in range(N_LINE_SEARCH_ITERS + 1):\n",
    "        if i == N_LINE_SEARCH_ITERS:\n",
    "            print(\"W: Preliminaty line search iterations exceeded in MinimizeQuadraticOnL2Ball\")\n",
    "            break\n",
    "\n",
    "        S_tau = solve_tridiagonal_system(diag, subdiag, tau, g_, S_tau, buffer)\n",
    "        S_tau_norm = np.linalg.norm(S_tau)\n",
    "        phi_tau = 1.0 / S_tau_norm - 1.0 / R\n",
    "        if phi_tau < inner_eps or tau < inner_eps:\n",
    "            break\n",
    "        tau *= 0.5\n",
    "\n",
    "    if phi_tau < -inner_eps:\n",
    "        S_tau_grad = np.zeros(n)\n",
    "        for i in range(N_LINE_SEARCH_ITERS + 1):\n",
    "            if i == N_LINE_SEARCH_ITERS:\n",
    "                print(\"W: 1-D Newton iterations exceeded in MinimizeQuadraticOnL2Ball\")\n",
    "                break\n",
    "\n",
    "            S_tau_grad = solve_tridiagonal_system(diag, subdiag, tau, g_, S_tau, buffer)\n",
    "            S_tau_norm = np.linalg.norm(S_tau)\n",
    "            phi_tau_prime = (1.0 / S_tau_norm**3) * (S_tau.T.dot(S_tau_grad))\n",
    "            tau -= phi_tau / phi_tau_prime\n",
    "\n",
    "            S_tau = solve_tridiagonal_system(diag, subdiag, tau, g_, S_tau, buffer)\n",
    "            S_tau_norm = np.linalg.norm(S_tau)\n",
    "            phi_tau = 1.0 / S_tau_norm - 1.0 / R\n",
    "\n",
    "            if abs(phi_tau) < inner_eps or abs(phi_tau_prime) < inner_eps:\n",
    "                break\n",
    "\n",
    "    return -Q.dot(S_tau)\n",
    "\n",
    "\n",
    "def contracting_newton(params, c_0, decrease_gamma, history):\n",
    "    # start_time = time.perf_counter()\n",
    "    # last_logging_time = start_time\n",
    "    # last_display_time = start_time\n",
    "\n",
    "    n = params['A'].shape[1]\n",
    "    m = params['A'].shape[0]\n",
    "    inv_m = 1.0 / m\n",
    "    data_accesses = m\n",
    "\n",
    "    x_k = params['x_0'].copy()\n",
    "    # Ax = params['A'].dot(x_k)\n",
    "    Ax = params['A']@x_k\n",
    "    g_k = np.zeros(n)\n",
    "    H_k = np.zeros((n, n))\n",
    "    v_k = np.zeros(n)\n",
    "\n",
    "    gamma_str = f\"gamma_k = {c_0}\"\n",
    "    if decrease_gamma:\n",
    "        gamma_str += \" / (3 + k)\"\n",
    "    print(f\"Contracting Newton Method, {gamma_str}\")\n",
    "    for k in tqdm(range(params['n_iters'] + 1)):\n",
    "        to_finish = False\n",
    "        # update_history(\n",
    "        #     params,\n",
    "        #     start_time,\n",
    "        #     k,\n",
    "        #     data_accesses,\n",
    "        #     lambda: float('inf') if x_k.norm() > params['R'] + 1e-5 else inv_m * np.logaddexp(Ax, 0).sum(),\n",
    "        #     last_logging_time,\n",
    "        #     last_display_time,\n",
    "        #     history,\n",
    "        #     to_finish\n",
    "        # )\n",
    "        print(np.linalg.norm(g_k))\n",
    "        if to_finish or (k>=1 and np.linalg.norm(g_k)<params['outer_eps']):\n",
    "            break\n",
    "\n",
    "        gamma_k = c_0\n",
    "        if decrease_gamma:\n",
    "            # gamma_k /= 3.0 + k\n",
    "            gamma_k=c_0*(1-(k/(k+1))**3)\n",
    "            print(\"Gamma_k=\",gamma_k)\n",
    "        g_k = inv_m * (params['A'].T.dot(1 / (1 + np.exp(-Ax))))\n",
    "        H_k = (inv_m * gamma_k) * (params['A'].T.dot((1 / (1 + np.exp(-Ax)) * (1 - 1 / (1 + np.exp(-Ax))))[:, np.newaxis] * params['A']))\n",
    "        g_k -= H_k.dot(x_k)\n",
    "\n",
    "        v_k = minimize_quadratic_on_l2_ball(g_k, H_k, params['R'], params['inner_eps'])\n",
    "\n",
    "        x_k += gamma_k * (v_k - x_k)\n",
    "        Ax = params['A'].dot(x_k)\n",
    "        data_accesses += m\n",
    "    print(\"Done.\")\n"
   ]
  },
  {
   "cell_type": "code",
   "execution_count": 58,
   "metadata": {},
   "outputs": [
    {
     "name": "stderr",
     "output_type": "stream",
     "text": [
      "  0%|          | 0/10001 [00:00<?, ?it/s]"
     ]
    },
    {
     "name": "stdout",
     "output_type": "stream",
     "text": [
      "49749 300\n",
      "14910962\n",
      "Contracting Newton Method, gamma_k = 3.0 / (3 + k)\n",
      "0.0\n",
      "Gamma_k= 3.0\n"
     ]
    },
    {
     "name": "stderr",
     "output_type": "stream",
     "text": [
      "  0%|          | 1/10001 [00:00<55:43,  2.99it/s]"
     ]
    },
    {
     "name": "stdout",
     "output_type": "stream",
     "text": [
      "W: 1-D Newton iterations exceeded in MinimizeQuadraticOnL2Ball\n",
      "0.5625363177417216\n",
      "Gamma_k= 2.625\n"
     ]
    },
    {
     "name": "stderr",
     "output_type": "stream",
     "text": [
      "  0%|          | 2/10001 [00:00<53:45,  3.10it/s]"
     ]
    },
    {
     "name": "stdout",
     "output_type": "stream",
     "text": [
      "W: 1-D Newton iterations exceeded in MinimizeQuadraticOnL2Ball\n",
      "0.5559962084641606\n",
      "Gamma_k= 2.111111111111111\n"
     ]
    },
    {
     "name": "stderr",
     "output_type": "stream",
     "text": [
      "  0%|          | 4/10001 [00:01<38:40,  4.31it/s]"
     ]
    },
    {
     "name": "stdout",
     "output_type": "stream",
     "text": [
      "0.5670549312945912\n",
      "Gamma_k= 1.734375\n",
      "0.4932642297620574\n",
      "Gamma_k= 1.4639999999999995\n"
     ]
    },
    {
     "name": "stderr",
     "output_type": "stream",
     "text": [
      "  0%|          | 6/10001 [00:01<37:48,  4.41it/s]"
     ]
    },
    {
     "name": "stdout",
     "output_type": "stream",
     "text": [
      "W: 1-D Newton iterations exceeded in MinimizeQuadraticOnL2Ball\n",
      "0.5943739957783154\n",
      "Gamma_k= 1.2638888888888884\n",
      "0.5529834618742521\n",
      "Gamma_k= 1.110787172011662\n"
     ]
    },
    {
     "name": "stderr",
     "output_type": "stream",
     "text": [
      "  0%|          | 8/10001 [00:01<37:01,  4.50it/s]"
     ]
    },
    {
     "name": "stdout",
     "output_type": "stream",
     "text": [
      "W: 1-D Newton iterations exceeded in MinimizeQuadraticOnL2Ball\n",
      "0.5595659657110432\n",
      "Gamma_k= 0.990234375\n",
      "0.5625047761952993\n",
      "Gamma_k= 0.8930041152263379\n"
     ]
    },
    {
     "name": "stderr",
     "output_type": "stream",
     "text": [
      "  0%|          | 10/10001 [00:02<32:43,  5.09it/s]"
     ]
    },
    {
     "name": "stdout",
     "output_type": "stream",
     "text": [
      "0.5650631481670151\n",
      "Gamma_k= 0.8129999999999997\n"
     ]
    },
    {
     "name": "stderr",
     "output_type": "stream",
     "text": [
      "  0%|          | 11/10001 [00:02<31:43,  5.25it/s]"
     ]
    },
    {
     "name": "stdout",
     "output_type": "stream",
     "text": [
      "0.5654402553324699\n",
      "Gamma_k= 0.746055597295267\n",
      "0.5662313103329817\n",
      "Gamma_k= 0.6892361111111114\n"
     ]
    },
    {
     "name": "stderr",
     "output_type": "stream",
     "text": [
      "  0%|          | 12/10001 [00:02<32:58,  5.05it/s]"
     ]
    },
    {
     "name": "stdout",
     "output_type": "stream",
     "text": [
      "0.5665700553401612\n",
      "Gamma_k= 0.6404187528447881\n"
     ]
    },
    {
     "name": "stderr",
     "output_type": "stream",
     "text": [
      "  0%|          | 14/10001 [00:03<40:12,  4.14it/s]"
     ]
    },
    {
     "name": "stdout",
     "output_type": "stream",
     "text": [
      "W: 1-D Newton iterations exceeded in MinimizeQuadraticOnL2Ball\n",
      "0.5665354160763906\n",
      "Gamma_k= 0.5980320699708453\n"
     ]
    },
    {
     "name": "stderr",
     "output_type": "stream",
     "text": [
      "  0%|          | 15/10001 [00:03<37:50,  4.40it/s]"
     ]
    },
    {
     "name": "stdout",
     "output_type": "stream",
     "text": [
      "0.5641575606916509\n",
      "Gamma_k= 0.5608888888888887\n"
     ]
    },
    {
     "name": "stderr",
     "output_type": "stream",
     "text": [
      "  0%|          | 16/10001 [00:03<36:48,  4.52it/s]"
     ]
    },
    {
     "name": "stdout",
     "output_type": "stream",
     "text": [
      "0.5645452138071231\n",
      "Gamma_k= 0.528076171875\n"
     ]
    },
    {
     "name": "stderr",
     "output_type": "stream",
     "text": [
      "  0%|          | 17/10001 [00:03<36:13,  4.59it/s]"
     ]
    },
    {
     "name": "stdout",
     "output_type": "stream",
     "text": [
      "0.565033954346399\n",
      "Gamma_k= 0.4988805210665581\n",
      "0.5651187725533671\n",
      "Gamma_k= 0.47273662551440354\n"
     ]
    },
    {
     "name": "stderr",
     "output_type": "stream",
     "text": [
      "  0%|          | 18/10001 [00:04<36:23,  4.57it/s]"
     ]
    },
    {
     "name": "stdout",
     "output_type": "stream",
     "text": [
      "0.5652351969749735\n",
      "Gamma_k= 0.44919084414637755\n"
     ]
    },
    {
     "name": "stderr",
     "output_type": "stream",
     "text": [
      "  0%|          | 20/10001 [00:04<38:02,  4.37it/s]"
     ]
    },
    {
     "name": "stdout",
     "output_type": "stream",
     "text": [
      "0.564909887268533\n",
      "Gamma_k= 0.42787500000000034\n",
      "0.5648047548233581\n",
      "Gamma_k= 0.4084872044055723\n"
     ]
    },
    {
     "name": "stderr",
     "output_type": "stream",
     "text": [
      "  0%|          | 22/10001 [00:05<36:44,  4.53it/s]"
     ]
    },
    {
     "name": "stdout",
     "output_type": "stream",
     "text": [
      "0.5647293883284188\n",
      "Gamma_k= 0.3907776108189328\n"
     ]
    },
    {
     "name": "stderr",
     "output_type": "stream",
     "text": [
      "  0%|          | 23/10001 [00:05<35:32,  4.68it/s]"
     ]
    },
    {
     "name": "stdout",
     "output_type": "stream",
     "text": [
      "0.5647015040971777\n",
      "Gamma_k= 0.37453768389907094\n",
      "0.5645140702720195\n",
      "Gamma_k= 0.3595920138888886\n"
     ]
    },
    {
     "name": "stderr",
     "output_type": "stream",
     "text": [
      "  0%|          | 24/10001 [00:05<35:42,  4.66it/s]"
     ]
    },
    {
     "name": "stdout",
     "output_type": "stream",
     "text": [
      "0.5645862375398235\n",
      "Gamma_k= 0.34579200000000043\n"
     ]
    },
    {
     "name": "stderr",
     "output_type": "stream",
     "text": [
      "  0%|          | 25/10001 [00:05<36:23,  4.57it/s]"
     ]
    },
    {
     "name": "stdout",
     "output_type": "stream",
     "text": [
      "0.5645172868280437\n",
      "Gamma_k= 0.33301092398725507\n"
     ]
    },
    {
     "name": "stderr",
     "output_type": "stream",
     "text": [
      "  0%|          | 26/10001 [00:05<36:17,  4.58it/s]"
     ]
    },
    {
     "name": "stdout",
     "output_type": "stream",
     "text": [
      "0.56445008529275\n",
      "Gamma_k= 0.321140070111264\n"
     ]
    },
    {
     "name": "stderr",
     "output_type": "stream",
     "text": [
      "  0%|          | 28/10001 [00:06<35:13,  4.72it/s]"
     ]
    },
    {
     "name": "stdout",
     "output_type": "stream",
     "text": [
      "0.5643065109334496\n",
      "Gamma_k= 0.31008564139941663\n"
     ]
    },
    {
     "name": "stderr",
     "output_type": "stream",
     "text": [
      "  0%|          | 29/10001 [00:06<34:09,  4.87it/s]"
     ]
    },
    {
     "name": "stdout",
     "output_type": "stream",
     "text": [
      "0.5642190517897328\n",
      "Gamma_k= 0.29976628808069183\n"
     ]
    },
    {
     "name": "stderr",
     "output_type": "stream",
     "text": [
      "  0%|          | 30/10001 [00:06<33:40,  4.94it/s]"
     ]
    },
    {
     "name": "stdout",
     "output_type": "stream",
     "text": [
      "0.564207540148604\n",
      "Gamma_k= 0.2901111111111112\n"
     ]
    },
    {
     "name": "stderr",
     "output_type": "stream",
     "text": [
      "  0%|          | 31/10001 [00:06<33:40,  4.93it/s]"
     ]
    },
    {
     "name": "stdout",
     "output_type": "stream",
     "text": [
      "0.5640957260687113\n",
      "Gamma_k= 0.281058037662381\n",
      "0.5639764044335754\n",
      "Gamma_k= 0.272552490234375\n"
     ]
    },
    {
     "name": "stderr",
     "output_type": "stream",
     "text": [
      "  0%|          | 32/10001 [00:07<35:24,  4.69it/s]"
     ]
    },
    {
     "name": "stdout",
     "output_type": "stream",
     "text": [
      "0.5639558275586491\n",
      "Gamma_k= 0.2645462893396775\n"
     ]
    },
    {
     "name": "stderr",
     "output_type": "stream",
     "text": [
      "  0%|          | 33/10001 [00:07<36:03,  4.61it/s]"
     ]
    },
    {
     "name": "stdout",
     "output_type": "stream",
     "text": [
      "0.5638787896997921\n",
      "Gamma_k= 0.2569967433340118\n"
     ]
    },
    {
     "name": "stderr",
     "output_type": "stream",
     "text": [
      "  0%|          | 34/10001 [00:07<42:42,  3.89it/s]"
     ]
    },
    {
     "name": "stdout",
     "output_type": "stream",
     "text": [
      "W: 1-D Newton iterations exceeded in MinimizeQuadraticOnL2Ball\n",
      "0.5637594091500396\n",
      "Gamma_k= 0.24986588921282793\n"
     ]
    },
    {
     "name": "stderr",
     "output_type": "stream",
     "text": [
      "  0%|          | 35/10001 [00:07<42:18,  3.93it/s]"
     ]
    },
    {
     "name": "stdout",
     "output_type": "stream",
     "text": [
      "0.5634555512427324\n",
      "Gamma_k= 0.2431198559670784\n"
     ]
    },
    {
     "name": "stderr",
     "output_type": "stream",
     "text": [
      "  0%|          | 36/10001 [00:08<41:29,  4.00it/s]"
     ]
    },
    {
     "name": "stdout",
     "output_type": "stream",
     "text": [
      "0.5634552502888346\n",
      "Gamma_k= 0.2367283280358513\n"
     ]
    },
    {
     "name": "stderr",
     "output_type": "stream",
     "text": [
      "  0%|          | 38/10001 [00:08<42:35,  3.90it/s]"
     ]
    },
    {
     "name": "stdout",
     "output_type": "stream",
     "text": [
      "W: 1-D Newton iterations exceeded in MinimizeQuadraticOnL2Ball\n",
      "0.5634107541123324\n",
      "Gamma_k= 0.23066409097536045\n"
     ]
    },
    {
     "name": "stderr",
     "output_type": "stream",
     "text": [
      "  0%|          | 39/10001 [00:08<39:57,  4.15it/s]"
     ]
    },
    {
     "name": "stdout",
     "output_type": "stream",
     "text": [
      "0.5632105161732952\n",
      "Gamma_k= 0.22490264502098845\n",
      "0.5632394568242363\n",
      "Gamma_k= 0.2194218750000002\n"
     ]
    },
    {
     "name": "stderr",
     "output_type": "stream",
     "text": [
      "  0%|          | 41/10001 [00:09<36:24,  4.56it/s]"
     ]
    },
    {
     "name": "stdout",
     "output_type": "stream",
     "text": [
      "0.5631580998199487\n",
      "Gamma_k= 0.21420176724075413\n"
     ]
    },
    {
     "name": "stderr",
     "output_type": "stream",
     "text": [
      "  0%|          | 42/10001 [00:09<35:58,  4.61it/s]"
     ]
    },
    {
     "name": "stdout",
     "output_type": "stream",
     "text": [
      "0.5631786443242012\n",
      "Gamma_k= 0.20922416585681924\n",
      "0.5632261400384272\n",
      "Gamma_k= 0.20447256216433796\n"
     ]
    },
    {
     "name": "stderr",
     "output_type": "stream",
     "text": [
      "  0%|          | 44/10001 [00:10<35:58,  4.61it/s]"
     ]
    },
    {
     "name": "stdout",
     "output_type": "stream",
     "text": [
      "0.5632383454895966\n",
      "Gamma_k= 0.19993191209616823\n"
     ]
    },
    {
     "name": "stderr",
     "output_type": "stream",
     "text": [
      "  0%|          | 45/10001 [00:10<34:15,  4.84it/s]"
     ]
    },
    {
     "name": "stdout",
     "output_type": "stream",
     "text": [
      "0.5632357233113401\n",
      "Gamma_k= 0.1955884773662553\n",
      "0.563222548791668\n",
      "Gamma_k= 0.1914296868578942\n"
     ]
    },
    {
     "name": "stderr",
     "output_type": "stream",
     "text": [
      "  0%|          | 46/10001 [00:10<34:13,  4.85it/s]"
     ]
    },
    {
     "name": "stdout",
     "output_type": "stream",
     "text": [
      "0.5632076555582691\n",
      "Gamma_k= 0.18744401529526256\n"
     ]
    },
    {
     "name": "stderr",
     "output_type": "stream",
     "text": [
      "  0%|          | 47/10001 [00:10<40:40,  4.08it/s]"
     ]
    },
    {
     "name": "stdout",
     "output_type": "stream",
     "text": [
      "0.5631960776514343\n",
      "Gamma_k= 0.18362087673611127\n"
     ]
    },
    {
     "name": "stderr",
     "output_type": "stream",
     "text": [
      "  0%|          | 48/10001 [00:10<38:53,  4.26it/s]"
     ]
    },
    {
     "name": "stdout",
     "output_type": "stream",
     "text": [
      "0.5631822953080461\n",
      "Gamma_k= 0.1799505308162418\n"
     ]
    },
    {
     "name": "stderr",
     "output_type": "stream",
     "text": [
      "  0%|          | 50/10001 [00:11<36:59,  4.48it/s]"
     ]
    },
    {
     "name": "stdout",
     "output_type": "stream",
     "text": [
      "0.5631610741058498\n",
      "Gamma_k= 0.17642400000000025\n",
      "0.5631241069997046\n",
      "Gamma_k= 0.17303299635886682\n"
     ]
    },
    {
     "name": "stderr",
     "output_type": "stream",
     "text": [
      "  1%|          | 51/10001 [00:11<38:55,  4.26it/s]"
     ]
    },
    {
     "name": "stdout",
     "output_type": "stream",
     "text": [
      "0.5631156729456406\n",
      "Gamma_k= 0.16976985662266775\n"
     ]
    },
    {
     "name": "stderr",
     "output_type": "stream",
     "text": [
      "  1%|          | 52/10001 [00:11<40:34,  4.09it/s]"
     ]
    },
    {
     "name": "stdout",
     "output_type": "stream",
     "text": [
      "0.563102314049425\n",
      "Gamma_k= 0.16662748443345843\n"
     ]
    },
    {
     "name": "stderr",
     "output_type": "stream",
     "text": [
      "  1%|          | 53/10001 [00:12<39:08,  4.24it/s]"
     ]
    },
    {
     "name": "stdout",
     "output_type": "stream",
     "text": [
      "0.5630695892031017\n",
      "Gamma_k= 0.16359929888736435\n"
     ]
    },
    {
     "name": "stderr",
     "output_type": "stream",
     "text": [
      "  1%|          | 54/10001 [00:12<38:06,  4.35it/s]"
     ]
    },
    {
     "name": "stdout",
     "output_type": "stream",
     "text": [
      "0.5630562158891442\n",
      "Gamma_k= 0.16067918858001495\n"
     ]
    },
    {
     "name": "stderr",
     "output_type": "stream",
     "text": [
      "  1%|          | 55/10001 [00:12<38:08,  4.35it/s]"
     ]
    },
    {
     "name": "stdout",
     "output_type": "stream",
     "text": [
      "0.5630785102169307\n",
      "Gamma_k= 0.15786147048104993\n"
     ]
    },
    {
     "name": "stderr",
     "output_type": "stream",
     "text": [
      "  1%|          | 56/10001 [00:12<37:59,  4.36it/s]"
     ]
    },
    {
     "name": "stdout",
     "output_type": "stream",
     "text": [
      "0.563048940133431\n",
      "Gamma_k= 0.15514085305600167\n"
     ]
    },
    {
     "name": "stderr",
     "output_type": "stream",
     "text": [
      "  1%|          | 57/10001 [00:13<38:37,  4.29it/s]"
     ]
    },
    {
     "name": "stdout",
     "output_type": "stream",
     "text": [
      "0.5630343444974938\n",
      "Gamma_k= 0.1525124031325602\n"
     ]
    },
    {
     "name": "stderr",
     "output_type": "stream",
     "text": [
      "\n"
     ]
    },
    {
     "ename": "KeyboardInterrupt",
     "evalue": "",
     "output_type": "error",
     "traceback": [
      "\u001b[1;31m---------------------------------------------------------------------------\u001b[0m",
      "\u001b[1;31mKeyboardInterrupt\u001b[0m                         Traceback (most recent call last)",
      "\u001b[1;32m<ipython-input-58-062feacf03a1>\u001b[0m in \u001b[0;36m<module>\u001b[1;34m\u001b[0m\n\u001b[0;32m     18\u001b[0m \u001b[0mhistory\u001b[0m\u001b[1;33m=\u001b[0m\u001b[1;32mNone\u001b[0m\u001b[1;33m\u001b[0m\u001b[1;33m\u001b[0m\u001b[0m\n\u001b[0;32m     19\u001b[0m \u001b[0mdecrease_gamma\u001b[0m\u001b[1;33m=\u001b[0m\u001b[1;32mTrue\u001b[0m\u001b[1;33m\u001b[0m\u001b[1;33m\u001b[0m\u001b[0m\n\u001b[1;32m---> 20\u001b[1;33m \u001b[0mcontracting_newton\u001b[0m\u001b[1;33m(\u001b[0m\u001b[0mparams\u001b[0m\u001b[1;33m,\u001b[0m \u001b[0mc_0\u001b[0m\u001b[1;33m,\u001b[0m \u001b[0mdecrease_gamma\u001b[0m\u001b[1;33m,\u001b[0m \u001b[0mhistory\u001b[0m\u001b[1;33m)\u001b[0m\u001b[1;33m\u001b[0m\u001b[1;33m\u001b[0m\u001b[0m\n\u001b[0m",
      "\u001b[1;32m<ipython-input-57-71ab7c02fddd>\u001b[0m in \u001b[0;36mcontracting_newton\u001b[1;34m(params, c_0, decrease_gamma, history)\u001b[0m\n\u001b[0;32m    140\u001b[0m         \u001b[0mg_k\u001b[0m \u001b[1;33m-=\u001b[0m \u001b[0mH_k\u001b[0m\u001b[1;33m.\u001b[0m\u001b[0mdot\u001b[0m\u001b[1;33m(\u001b[0m\u001b[0mx_k\u001b[0m\u001b[1;33m)\u001b[0m\u001b[1;33m\u001b[0m\u001b[1;33m\u001b[0m\u001b[0m\n\u001b[0;32m    141\u001b[0m \u001b[1;33m\u001b[0m\u001b[0m\n\u001b[1;32m--> 142\u001b[1;33m         \u001b[0mv_k\u001b[0m \u001b[1;33m=\u001b[0m \u001b[0mminimize_quadratic_on_l2_ball\u001b[0m\u001b[1;33m(\u001b[0m\u001b[0mg_k\u001b[0m\u001b[1;33m,\u001b[0m \u001b[0mH_k\u001b[0m\u001b[1;33m,\u001b[0m \u001b[0mparams\u001b[0m\u001b[1;33m[\u001b[0m\u001b[1;34m'R'\u001b[0m\u001b[1;33m]\u001b[0m\u001b[1;33m,\u001b[0m \u001b[0mparams\u001b[0m\u001b[1;33m[\u001b[0m\u001b[1;34m'inner_eps'\u001b[0m\u001b[1;33m]\u001b[0m\u001b[1;33m)\u001b[0m\u001b[1;33m\u001b[0m\u001b[1;33m\u001b[0m\u001b[0m\n\u001b[0m\u001b[0;32m    143\u001b[0m \u001b[1;33m\u001b[0m\u001b[0m\n\u001b[0;32m    144\u001b[0m         \u001b[0mx_k\u001b[0m \u001b[1;33m+=\u001b[0m \u001b[0mgamma_k\u001b[0m \u001b[1;33m*\u001b[0m \u001b[1;33m(\u001b[0m\u001b[0mv_k\u001b[0m \u001b[1;33m-\u001b[0m \u001b[0mx_k\u001b[0m\u001b[1;33m)\u001b[0m\u001b[1;33m\u001b[0m\u001b[1;33m\u001b[0m\u001b[0m\n",
      "\u001b[1;32m<ipython-input-57-71ab7c02fddd>\u001b[0m in \u001b[0;36mminimize_quadratic_on_l2_ball\u001b[1;34m(g, H, R, inner_eps)\u001b[0m\n\u001b[0;32m     47\u001b[0m     \u001b[0mn\u001b[0m \u001b[1;33m=\u001b[0m \u001b[0mg\u001b[0m\u001b[1;33m.\u001b[0m\u001b[0mshape\u001b[0m\u001b[1;33m[\u001b[0m\u001b[1;36m0\u001b[0m\u001b[1;33m]\u001b[0m\u001b[1;33m\u001b[0m\u001b[1;33m\u001b[0m\u001b[0m\n\u001b[0;32m     48\u001b[0m \u001b[1;33m\u001b[0m\u001b[0m\n\u001b[1;32m---> 49\u001b[1;33m     \u001b[0mH_tridiag\u001b[0m\u001b[1;33m,\u001b[0m \u001b[0mQ\u001b[0m \u001b[1;33m=\u001b[0m \u001b[0mnp\u001b[0m\u001b[1;33m.\u001b[0m\u001b[0mlinalg\u001b[0m\u001b[1;33m.\u001b[0m\u001b[0mqr\u001b[0m\u001b[1;33m(\u001b[0m\u001b[0mH\u001b[0m\u001b[1;33m)\u001b[0m\u001b[1;33m\u001b[0m\u001b[1;33m\u001b[0m\u001b[0m\n\u001b[0m\u001b[0;32m     50\u001b[0m     \u001b[0mdiag\u001b[0m \u001b[1;33m=\u001b[0m \u001b[0mnp\u001b[0m\u001b[1;33m.\u001b[0m\u001b[0mdiag\u001b[0m\u001b[1;33m(\u001b[0m\u001b[0mH_tridiag\u001b[0m\u001b[1;33m)\u001b[0m\u001b[1;33m\u001b[0m\u001b[1;33m\u001b[0m\u001b[0m\n\u001b[0;32m     51\u001b[0m     \u001b[0msubdiag\u001b[0m \u001b[1;33m=\u001b[0m \u001b[0mnp\u001b[0m\u001b[1;33m.\u001b[0m\u001b[0mdiag\u001b[0m\u001b[1;33m(\u001b[0m\u001b[0mH_tridiag\u001b[0m\u001b[1;33m,\u001b[0m \u001b[0mk\u001b[0m\u001b[1;33m=\u001b[0m\u001b[1;33m-\u001b[0m\u001b[1;36m1\u001b[0m\u001b[1;33m)\u001b[0m\u001b[1;33m\u001b[0m\u001b[1;33m\u001b[0m\u001b[0m\n",
      "\u001b[1;32m<__array_function__ internals>\u001b[0m in \u001b[0;36mqr\u001b[1;34m(*args, **kwargs)\u001b[0m\n",
      "\u001b[1;32mc:\\Users\\S\\anaconda3\\lib\\site-packages\\numpy\\linalg\\linalg.py\u001b[0m in \u001b[0;36mqr\u001b[1;34m(a, mode)\u001b[0m\n\u001b[0;32m    977\u001b[0m         \u001b[1;32mraise\u001b[0m \u001b[0mLinAlgError\u001b[0m\u001b[1;33m(\u001b[0m\u001b[1;34m'%s returns %d'\u001b[0m \u001b[1;33m%\u001b[0m \u001b[1;33m(\u001b[0m\u001b[0mroutine_name\u001b[0m\u001b[1;33m,\u001b[0m \u001b[0mresults\u001b[0m\u001b[1;33m[\u001b[0m\u001b[1;34m'info'\u001b[0m\u001b[1;33m]\u001b[0m\u001b[1;33m)\u001b[0m\u001b[1;33m)\u001b[0m\u001b[1;33m\u001b[0m\u001b[1;33m\u001b[0m\u001b[0m\n\u001b[0;32m    978\u001b[0m \u001b[1;33m\u001b[0m\u001b[0m\n\u001b[1;32m--> 979\u001b[1;33m     \u001b[0mq\u001b[0m \u001b[1;33m=\u001b[0m \u001b[0m_fastCopyAndTranspose\u001b[0m\u001b[1;33m(\u001b[0m\u001b[0mresult_t\u001b[0m\u001b[1;33m,\u001b[0m \u001b[0mq\u001b[0m\u001b[1;33m[\u001b[0m\u001b[1;33m:\u001b[0m\u001b[0mmc\u001b[0m\u001b[1;33m]\u001b[0m\u001b[1;33m)\u001b[0m\u001b[1;33m\u001b[0m\u001b[1;33m\u001b[0m\u001b[0m\n\u001b[0m\u001b[0;32m    980\u001b[0m     \u001b[0mr\u001b[0m \u001b[1;33m=\u001b[0m \u001b[0m_fastCopyAndTranspose\u001b[0m\u001b[1;33m(\u001b[0m\u001b[0mresult_t\u001b[0m\u001b[1;33m,\u001b[0m \u001b[0ma\u001b[0m\u001b[1;33m[\u001b[0m\u001b[1;33m:\u001b[0m\u001b[1;33m,\u001b[0m \u001b[1;33m:\u001b[0m\u001b[0mmc\u001b[0m\u001b[1;33m]\u001b[0m\u001b[1;33m)\u001b[0m\u001b[1;33m\u001b[0m\u001b[1;33m\u001b[0m\u001b[0m\n\u001b[0;32m    981\u001b[0m \u001b[1;33m\u001b[0m\u001b[0m\n",
      "\u001b[1;32mc:\\Users\\S\\anaconda3\\lib\\site-packages\\numpy\\linalg\\linalg.py\u001b[0m in \u001b[0;36m_fastCopyAndTranspose\u001b[1;34m(type, *arrays)\u001b[0m\n\u001b[0;32m    179\u001b[0m         \u001b[1;32mif\u001b[0m \u001b[0ma\u001b[0m\u001b[1;33m.\u001b[0m\u001b[0mdtype\u001b[0m\u001b[1;33m.\u001b[0m\u001b[0mtype\u001b[0m \u001b[1;32mis\u001b[0m \u001b[1;32mnot\u001b[0m \u001b[0mtype\u001b[0m\u001b[1;33m:\u001b[0m\u001b[1;33m\u001b[0m\u001b[1;33m\u001b[0m\u001b[0m\n\u001b[0;32m    180\u001b[0m             \u001b[0ma\u001b[0m \u001b[1;33m=\u001b[0m \u001b[0ma\u001b[0m\u001b[1;33m.\u001b[0m\u001b[0mastype\u001b[0m\u001b[1;33m(\u001b[0m\u001b[0mtype\u001b[0m\u001b[1;33m)\u001b[0m\u001b[1;33m\u001b[0m\u001b[1;33m\u001b[0m\u001b[0m\n\u001b[1;32m--> 181\u001b[1;33m         \u001b[0mcast_arrays\u001b[0m \u001b[1;33m=\u001b[0m \u001b[0mcast_arrays\u001b[0m \u001b[1;33m+\u001b[0m \u001b[1;33m(\u001b[0m\u001b[0m_fastCT\u001b[0m\u001b[1;33m(\u001b[0m\u001b[0ma\u001b[0m\u001b[1;33m)\u001b[0m\u001b[1;33m,\u001b[0m\u001b[1;33m)\u001b[0m\u001b[1;33m\u001b[0m\u001b[1;33m\u001b[0m\u001b[0m\n\u001b[0m\u001b[0;32m    182\u001b[0m     \u001b[1;32mif\u001b[0m \u001b[0mlen\u001b[0m\u001b[1;33m(\u001b[0m\u001b[0mcast_arrays\u001b[0m\u001b[1;33m)\u001b[0m \u001b[1;33m==\u001b[0m \u001b[1;36m1\u001b[0m\u001b[1;33m:\u001b[0m\u001b[1;33m\u001b[0m\u001b[1;33m\u001b[0m\u001b[0m\n\u001b[0;32m    183\u001b[0m         \u001b[1;32mreturn\u001b[0m \u001b[0mcast_arrays\u001b[0m\u001b[1;33m[\u001b[0m\u001b[1;36m0\u001b[0m\u001b[1;33m]\u001b[0m\u001b[1;33m\u001b[0m\u001b[1;33m\u001b[0m\u001b[0m\n",
      "\u001b[1;31mKeyboardInterrupt\u001b[0m: "
     ]
    }
   ],
   "source": [
    "b, A = read_data('w8a')\n",
    "# b, A = read_data('ijcnn1.test')\n",
    "# b, A = read_data('a9a.test')\n",
    "# b, A = read_data('CINA.test')\n",
    "m,n = A.shape\n",
    "print(m,n)\n",
    "# b=np.expand_dims(b, axis=1)\n",
    "params=dict()\n",
    "params['A']=-np.multiply(b,A.T).T\n",
    "# print(params['A'][0,:])\n",
    "print(np.sum(A==params['A']))\n",
    "params['x_0']=np.zeros(n)\n",
    "c_0 = 3.0\n",
    "params['R']=10\n",
    "params['inner_eps']=1e-5\n",
    "params['outer_eps']=1e-5\n",
    "params['n_iters']=10000\n",
    "history=None\n",
    "decrease_gamma=True\n",
    "contracting_newton(params, c_0, decrease_gamma, history)"
   ]
  }
 ],
 "metadata": {
  "kernelspec": {
   "display_name": "base",
   "language": "python",
   "name": "python3"
  },
  "language_info": {
   "codemirror_mode": {
    "name": "ipython",
    "version": 3
   },
   "file_extension": ".py",
   "mimetype": "text/x-python",
   "name": "python",
   "nbconvert_exporter": "python",
   "pygments_lexer": "ipython3",
   "version": "3.8.8"
  },
  "orig_nbformat": 4,
  "vscode": {
   "interpreter": {
    "hash": "734ab24b5d337aa3083f37141e45635523032b38e37867a0b0460a6855b4b5f7"
   }
  }
 },
 "nbformat": 4,
 "nbformat_minor": 2
}
