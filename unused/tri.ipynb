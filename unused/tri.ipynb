{
 "cells": [
  {
   "cell_type": "code",
   "execution_count": 2,
   "metadata": {},
   "outputs": [],
   "source": [
    "import numpy as np\n",
    "def ss(A, jj):\n",
    "    \"\"\"Subfunction for h_trid.\"\"\"\n",
    "    return np.sqrt(np.sum(A[jj + 1:, jj] ** 2))\n",
    "\n",
    "def h_trid(A):\n",
    "    \"\"\"\n",
    "    H_TRID(A) uses Householder method to form a tridiagonal matrix from A.\n",
    "    Must have a SQUARE SYMMETRIC matrix as the input.\n",
    "    \"\"\"\n",
    "    M, N = A.shape\n",
    "    if M != N or (A != A.T).any():  # This just screens matrices that can't work.\n",
    "        raise ValueError(\"Matrix must be square symmetric only, see help.\")\n",
    "\n",
    "    lngth = len(A)  # Preallocations.\n",
    "    v = np.zeros(lngth)\n",
    "    I = np.eye(lngth)\n",
    "    Aold = A\n",
    "    finalP=np.eye(lngth)\n",
    "    for jj in range(lngth - 2):  # Build each vector j and run the whole procedure.\n",
    "        v[:jj+1] = 0\n",
    "        S = ss(Aold, jj)\n",
    "        v[jj + 1] = np.sqrt(0.5 * (1 + abs(Aold[jj + 1, jj]) / (S)))\n",
    "        v[jj + 2:] = Aold[jj + 2:, jj] * np.sign(Aold[jj + 1, jj]) / (2 * v[jj + 1] * S )\n",
    "        P = I - 2 * np.outer(v, v)\n",
    "        Anew = P @ Aold @ P\n",
    "        Aold = Anew\n",
    "        finalP=finalP@P\n",
    "    # Anew[abs(Anew) < 5e-14] = 0  # Tolerance.\n",
    "\n",
    "    return Anew,finalP"
   ]
  },
  {
   "cell_type": "code",
   "execution_count": 4,
   "metadata": {},
   "outputs": [
    {
     "name": "stdout",
     "output_type": "stream",
     "text": [
      "[[ 1.36  -0.816  0.521  1.43  -0.144]\n",
      " [-0.816 -0.659  0.794 -0.173 -0.406]\n",
      " [ 0.521  0.794 -0.541  0.461  0.179]\n",
      " [ 1.43  -0.173  0.461 -1.43   0.822]\n",
      " [-0.144 -0.406  0.179  0.822 -1.37 ]]\n"
     ]
    },
    {
     "ename": "ValueError",
     "evalue": "too many values to unpack (expected 2)",
     "output_type": "error",
     "traceback": [
      "\u001b[1;31m---------------------------------------------------------------------------\u001b[0m",
      "\u001b[1;31mValueError\u001b[0m                                Traceback (most recent call last)",
      "\u001b[1;32m<ipython-input-4-4472f7b8a2c1>\u001b[0m in \u001b[0;36m<module>\u001b[1;34m\u001b[0m\n\u001b[0;32m     12\u001b[0m \u001b[1;32mimport\u001b[0m \u001b[0mnumpy\u001b[0m \u001b[1;32mas\u001b[0m \u001b[0mnp\u001b[0m\u001b[1;33m\u001b[0m\u001b[1;33m\u001b[0m\u001b[0m\n\u001b[0;32m     13\u001b[0m \u001b[1;32mfrom\u001b[0m \u001b[0mscipy\u001b[0m\u001b[1;33m.\u001b[0m\u001b[0mlinalg\u001b[0m \u001b[1;32mimport\u001b[0m \u001b[0mhessenberg\u001b[0m\u001b[1;33m\u001b[0m\u001b[1;33m\u001b[0m\u001b[0m\n\u001b[1;32m---> 14\u001b[1;33m \u001b[0ma\u001b[0m\u001b[1;33m,\u001b[0m \u001b[0mb\u001b[0m  \u001b[1;33m=\u001b[0m \u001b[0mhessenberg\u001b[0m\u001b[1;33m(\u001b[0m\u001b[0mA\u001b[0m\u001b[1;33m)\u001b[0m\u001b[1;33m\u001b[0m\u001b[1;33m\u001b[0m\u001b[0m\n\u001b[0m\u001b[0;32m     15\u001b[0m \u001b[0mprint\u001b[0m\u001b[1;33m(\u001b[0m\u001b[0mT\u001b[0m\u001b[1;33m)\u001b[0m\u001b[1;33m\u001b[0m\u001b[1;33m\u001b[0m\u001b[0m\n\u001b[0;32m     16\u001b[0m \u001b[0mprint\u001b[0m\u001b[1;33m(\u001b[0m\u001b[0mQ\u001b[0m\u001b[1;33m)\u001b[0m\u001b[1;33m\u001b[0m\u001b[1;33m\u001b[0m\u001b[0m\n",
      "\u001b[1;31mValueError\u001b[0m: too many values to unpack (expected 2)"
     ]
    }
   ],
   "source": [
    "# Test with a matrix\n",
    "A = np.array([[1.36 ,-0.816  ,0.521  , 1.43, -0.144],\n",
    "[-0.816 ,-0.659,  0.794, -0.173, -0.406],\n",
    "[ 0.521 , 0.794, -0.541,  0.461 , 0.179],\n",
    "[  1.43 ,-0.173 , 0.461,  -1.43 , 0.822],\n",
    "[-0.144 ,-0.406 , 0.179,  0.822  ,-1.37]])\n",
    "print(A)\n",
    "# Output:\n",
    "# [[1 2 3]\n",
    "#  [4 5 6]\n",
    "#  [7 8 9]]\n",
    "import numpy as np\n",
    "from scipy.linalg import hessenberg\n",
    "T,Q  = hessenberg(A,calc_q=True)\n",
    "print(T)\n",
    "print(Q)\n",
    "print(Q.T@A@Q)\n",
    "print(Q@T@Q.T)\n",
    "# Output:\n",
    "# [[ 5.  4.  3.]\n",
    "#  [ 0. -3. -2.]\n",
    "#  [ 0.  0. -1.]]\n",
    "print(Q@Q.T)\n",
    "# Output:\n",
    "# [[ 1.  0.  0.]\n",
    "#  [ 0.  0. -1.]\n",
    "#  [ 0.  1.  0.]]\n",
    "np.finfo(float).eps\n"
   ]
  }
 ],
 "metadata": {
  "kernelspec": {
   "display_name": "base",
   "language": "python",
   "name": "python3"
  },
  "language_info": {
   "codemirror_mode": {
    "name": "ipython",
    "version": 3
   },
   "file_extension": ".py",
   "mimetype": "text/x-python",
   "name": "python",
   "nbconvert_exporter": "python",
   "pygments_lexer": "ipython3",
   "version": "3.8.8 (default, Apr 13 2021, 15:08:03) [MSC v.1916 64 bit (AMD64)]"
  },
  "orig_nbformat": 4,
  "vscode": {
   "interpreter": {
    "hash": "734ab24b5d337aa3083f37141e45635523032b38e37867a0b0460a6855b4b5f7"
   }
  }
 },
 "nbformat": 4,
 "nbformat_minor": 2
}
