{
 "cells": [
  {
   "cell_type": "code",
   "execution_count": 62,
   "metadata": {},
   "outputs": [],
   "source": [
    "from tqdm import tqdm, trange\n",
    "from libsvm.svmutil import svm_read_problem # https://blog.csdn.net/u013630349/article/details/47323883\n",
    "from time import time\n",
    "\n",
    "import cvxpy as cp\n",
    "import matplotlib.pyplot as plt\n",
    "import numpy as np\n",
    "import pandas as pd\n",
    "# import scipy as sp\n",
    "from scipy.linalg import hessenberg\n",
    "def read_data(path):\n",
    "    b, A = svm_read_problem(path)\n",
    "    rows = len(b)   # 矩阵行数, i.e. sample 数\n",
    "    cols = max([max(row.keys()) if len(row)>0 else 0 for row in A])  # 矩阵列数, i.e. feature 数\n",
    "    b = np.array(b)\n",
    "    A_np = np.zeros((rows,cols))\n",
    "    for r in range(rows):\n",
    "        for c in A[r].keys():\n",
    "            # MatLab 是 1-index, python 则是 0-index\n",
    "            A_np[r,c-1] = A[r][c]\n",
    "    # 清楚全 0 features\n",
    "    effective_row_ids = []\n",
    "    for idx, row in enumerate(A_np):\n",
    "        if   True or np.sum(row) > 1e-3:\n",
    "            effective_row_ids.append(idx)\n",
    "    return b[effective_row_ids], A_np[effective_row_ids]\n",
    "\n",
    "\n",
    "def solve_tridiagonal_system(diag: np.ndarray, subdiag: np.ndarray, tau: float, b: np.ndarray) -> np.ndarray:\n",
    "    n = diag.shape[0]\n",
    "    c = np.zeros(n - 1)\n",
    "    d = np.zeros(n)\n",
    "\n",
    "    c[0] = subdiag[0] / (diag[0] + tau)\n",
    "    d[0] = b[0] / (diag[0] + tau)\n",
    "    for i in range(1, n - 1):\n",
    "        w = diag[i] + tau - subdiag[i - 1] * c[i - 1]\n",
    "        c[i] = subdiag[i] / w\n",
    "        d[i] = (b[i] - subdiag[i - 1] * d[i - 1]) / w\n",
    "    d[n - 1] = (b[n - 1] - subdiag[n - 2] * d[n - 2]) / (diag[n - 1] + tau - subdiag[n - 2] * c[n - 2])\n",
    "    for i in range(n - 2, -1, -1):\n",
    "        d[i] -= c[i] * d[i + 1]\n",
    "\n",
    "    return d\n",
    "\n",
    "2 * np.finfo(float).eps\n",
    "def ss(A, jj):\n",
    "    \"\"\"Subfunction for h_trid.\"\"\"\n",
    "    return np.sqrt(np.sum(A[jj + 1:, jj] ** 2))\n",
    "\n",
    "def h_trid(A):\n",
    "    \"\"\"\n",
    "    H_TRID(A) uses Householder method to form a tridiagonal matrix from A.\n",
    "    Must have a SQUARE SYMMETRIC matrix as the input.\n",
    "    \"\"\"\n",
    "    M, N = A.shape\n",
    "    if M != N or (A != A.T).any():  # This just screens matrices that can't work.\n",
    "        raise ValueError(\"Matrix must be square symmetric only, see help.\")\n",
    "\n",
    "    lngth = len(A)  # Preallocations.\n",
    "    v = np.zeros(lngth)\n",
    "    I = np.eye(lngth)\n",
    "    Aold = A\n",
    "    finalP=np.eye(lngth)\n",
    "    for jj in range(lngth - 2):  # Build each vector j and run the whole procedure.\n",
    "        v[:jj+1] = 0\n",
    "        S = ss(Aold, jj)\n",
    "        v[jj + 1] = np.sqrt(0.5 * (1 + abs(Aold[jj + 1, jj]) / (S+2 * np.finfo(float).eps)))\n",
    "        v[jj + 2:] = Aold[jj + 2:, jj] * np.sign(Aold[jj + 1, jj]) / (2 * v[jj + 1] * S+2 * np.finfo(float).eps )\n",
    "        P = I - 2 * np.outer(v, v)\n",
    "        Anew = P @ Aold @ P\n",
    "        Aold = Anew\n",
    "        finalP=finalP@P\n",
    "    # Anew[abs(Anew) < 5e-14] = 0  # Tolerance.\n",
    "\n",
    "    return Anew,finalP\n",
    "\n",
    "\n",
    "\n",
    "def minimize_quadratic_on_l2_ball(g: np.ndarray, H: np.ndarray, R: float, inner_eps: float) -> np.ndarray:\n",
    "    n = g.shape[0]\n",
    "    # np.savetxt('hess.txt',H)\n",
    "    # print(np.linalg.norm(H))\n",
    "    H_tridiag, Q = hessenberg(H,calc_q=True)\n",
    "    diag = np.diag(H_tridiag)\n",
    "    subdiag = np.diag(H_tridiag, k=-1)\n",
    "    # print(\"Other:\",np.sum(H_tridiag)-np.sum(diag)-np.sum(subdiag)*2,flush=True)\n",
    "    g_ = Q.T.dot(g)\n",
    "\n",
    "    tau = 1.0\n",
    "    S_tau = np.zeros(n)\n",
    "    S_tau_norm = 0.0\n",
    "    phi_tau = 0.0\n",
    "    # print(np.linalg.norm(H_tridiag))\n",
    "    # print(np.linalg.norm(diag),\"\\t\",np.linalg.norm(subdiag),\"\\t\",np.linalg.norm(g_))\n",
    "    N_LINE_SEARCH_ITERS = 100\n",
    "    for i in range(N_LINE_SEARCH_ITERS + 1):\n",
    "        if i == N_LINE_SEARCH_ITERS:\n",
    "            print(\"W: Preliminaty line search iterations exceeded in MinimizeQuadraticOnL2Ball\")\n",
    "            break\n",
    "\n",
    "        S_tau = solve_tridiagonal_system(diag, subdiag, tau, g_)\n",
    "        S_tau_norm = np.linalg.norm(S_tau)\n",
    "        phi_tau = 1.0 / S_tau_norm - 1.0 / R\n",
    "        if phi_tau < inner_eps or tau < inner_eps:\n",
    "            break\n",
    "        tau *= 0.5\n",
    "    # print(\"phi_tau:\",phi_tau)\n",
    "    if phi_tau < -inner_eps:\n",
    "        S_tau_grad = np.zeros(n)\n",
    "        for i in range(N_LINE_SEARCH_ITERS + 1):\n",
    "            if i == N_LINE_SEARCH_ITERS:\n",
    "                print(\"W: 1-D Newton iterations exceeded in MinimizeQuadraticOnL2Ball\")\n",
    "                break\n",
    "\n",
    "            S_tau_grad = solve_tridiagonal_system(diag, subdiag, tau, S_tau)\n",
    "            phi_tau_prime = (1.0 / S_tau_norm**3) * (S_tau.T.dot(S_tau_grad))\n",
    "            tau -= phi_tau / phi_tau_prime\n",
    "\n",
    "            S_tau = solve_tridiagonal_system(diag, subdiag, tau, g_)\n",
    "            S_tau_norm = np.linalg.norm(S_tau)\n",
    "            phi_tau = 1.0 / S_tau_norm - 1.0 / R\n",
    "\n",
    "            if abs(phi_tau) < inner_eps or abs(phi_tau_prime) < inner_eps:\n",
    "                break\n",
    "\n",
    "    return -Q.dot(S_tau)\n",
    "\n",
    "def Sigmoid(t):\n",
    "    if t>0:\n",
    "        return 1.0 / (1 + np.exp(-t))\n",
    "    else:\n",
    "        return np.exp(t) / (1 + np.exp(t))\n",
    "def Log_one_exp(inner):\n",
    "    if (inner > 0):\n",
    "        return inner + np.log(1 + np.exp(-inner))\n",
    "    else:\n",
    "        return np.log(1 + np.exp(inner))\n",
    "def contracting_newton(params, c_0, decrease_gamma, variance_reduction, history):\n",
    "    # start_time = time.perf_counter()\n",
    "    # last_logging_time = start_time\n",
    "    # last_display_time = start_time\n",
    "\n",
    "    n = params['A'].shape[1]\n",
    "    m = params['A'].shape[0]\n",
    "    inv_m = 1.0 / m\n",
    "    data_accesses = m\n",
    "\n",
    "    x_k = params['x_0'].copy()\n",
    "    # Ax = params['A'].dot(x_k)\n",
    "    Ax = params['A']@x_k\n",
    "    g_k = np.zeros(n)\n",
    "    H_k = np.zeros((n, n))\n",
    "    v_k = np.zeros(n)\n",
    "\n",
    "    gamma_str = f\"gamma_k = {c_0}\"\n",
    "    if decrease_gamma:\n",
    "        gamma_str += \" / (3 + k)\"\n",
    "    print(f\"Contracting Newton Method, {gamma_str}\")\n",
    "    pbar=tqdm(range(params['n_iters'] ))\n",
    "    for k in pbar:\n",
    "        to_finish = False\n",
    "        # update_history(\n",
    "        #     params,\n",
    "        #     start_time,\n",
    "        #     k,\n",
    "        #     data_accesses,\n",
    "        #     lambda: float('inf') if x_k.norm() > params['R'] + 1e-5 else inv_m * np.logaddexp(Ax, 0).sum(),\n",
    "        #     last_logging_time,\n",
    "        #     last_display_time,\n",
    "        #     history,\n",
    "        #     to_finish\n",
    "        # )\n",
    "        # print(np.linalg.norm(g_k))\n",
    "        if to_finish or (k>=1 and grad_norm<params['outer_eps']):\n",
    "            break\n",
    "\n",
    "        gamma_k = c_0\n",
    "        if decrease_gamma:\n",
    "            gamma_k /= 3.0 + k\n",
    "            # gamma_k=c_0*(1-(k/(k+1))**3)\n",
    "            # print(\"Gamma_k=\",gamma_k)\n",
    "        # print(\"Round:\",k,flush=True)\n",
    "        if variance_reduction and (k==0 or abs(2**np.floor(np.log2(k)) - k)<1e-6):\n",
    "            # print(k)\n",
    "            Ax = params['A'] @ x_k\n",
    "            full_g_k = inv_m * (params['A'].T.dot(np.array([Sigmoid(ax) for ax in Ax])))\n",
    "            z_k = x_k.copy()\n",
    "            data_accesses += m\n",
    "        \n",
    "        \n",
    "        # full_H_k = (inv_m * gamma_k) * (params['A'].T.dot(((1 / (1 + np.exp(-Ax))) * (1 - 1 / (1 + np.exp(-Ax))))[:, np.newaxis] * params['A'])) + (inv_m * gamma_k)*2*params['lambda']*np.diag([1.0]*x_k.size)\n",
    "        \n",
    "        obj_indices=np.arange(m)\n",
    "        k_sqr = (k + 1) * (k + 1)\n",
    "        batch_size = k_sqr if k_sqr < m else m\n",
    "        if batch_size == m:\n",
    "            print(\"W: batch_size equals m\")\n",
    "            return\n",
    "        np.random.shuffle(obj_indices)\n",
    "        # if k!=0:\n",
    "        batch = obj_indices[:batch_size].copy()\n",
    "        A_batch=params['A'][batch,:]\n",
    "        A_batchx=A_batch@x_k\n",
    "        A_batchz=A_batch@z_k\n",
    "        inv_bs = 1/batch_size\n",
    "        g_k = inv_bs * (A_batch.T.dot(np.array([Sigmoid(ax) for ax in A_batchx])))+inv_m*2*params['lambda']*x_k\n",
    "        g_k+=full_g_k-inv_bs * (A_batch.T.dot(np.array([Sigmoid(az) for az in A_batchz])))\n",
    "        H_k = (inv_bs * gamma_k) * (A_batch.T.dot(((np.array([Sigmoid(ax) for ax in A_batchx])) * (1 - np.array([Sigmoid(ax) for ax in A_batchx])))[:, np.newaxis] * A_batch)) + (inv_m * gamma_k)*2*params['lambda']*np.diag([1.0]*x_k.size)\n",
    "        grad_norm=np.linalg.norm(g_k)\n",
    "        g_k -= H_k.dot(x_k)\n",
    "\n",
    "        v_k = minimize_quadratic_on_l2_ball(g_k, H_k, params['R'], params['inner_eps'])\n",
    "\n",
    "        x_k += gamma_k * (v_k - x_k)\n",
    "        Ax = params['A'].dot(x_k)\n",
    "        data_accesses += m\n",
    "        pbar.set_description('Function value: %.8f / Grad norm: %.8f'%(np.average(np.array([Log_one_exp(ax) for ax in params['A']@x_k]))+inv_m*params['lambda']*np.linalg.norm(x_k)**2,grad_norm))\n",
    "        # print(\"function value:\",np.average(np.log(1+np.exp(-params['b']*(params['A_o']@x_k))))+inv_m*params['lambda']*np.linalg.norm(x_k)**2)\n",
    "    print(\"Done.\")\n"
   ]
  },
  {
   "cell_type": "code",
   "execution_count": 63,
   "metadata": {},
   "outputs": [
    {
     "name": "stderr",
     "output_type": "stream",
     "text": [
      "  0%|          | 0/10000 [00:00<?, ?it/s]"
     ]
    },
    {
     "name": "stdout",
     "output_type": "stream",
     "text": [
      "49749 300\n",
      "14910962\n",
      "Contracting Newton Method, gamma_k = 3.0 / (3 + k)\n",
      "0\n"
     ]
    },
    {
     "name": "stderr",
     "output_type": "stream",
     "text": [
      "Function value: 0.26819762 / Grad norm: 0.56253632:   0%|          | 1/10000 [00:00<52:55,  3.15it/s]"
     ]
    },
    {
     "name": "stdout",
     "output_type": "stream",
     "text": [
      "1\n"
     ]
    },
    {
     "name": "stderr",
     "output_type": "stream",
     "text": [
      "Function value: 1.95575023 / Grad norm: 0.02471120:   0%|          | 2/10000 [00:00<51:17,  3.25it/s]"
     ]
    },
    {
     "name": "stdout",
     "output_type": "stream",
     "text": [
      "2\n"
     ]
    },
    {
     "name": "stderr",
     "output_type": "stream",
     "text": [
      "Function value: 0.26272884 / Grad norm: 0.70283916:   0%|          | 4/10000 [00:01<38:48,  4.29it/s]"
     ]
    },
    {
     "name": "stdout",
     "output_type": "stream",
     "text": [
      "4\n"
     ]
    },
    {
     "name": "stderr",
     "output_type": "stream",
     "text": [
      "Function value: 0.19379946 / Grad norm: 0.05239830:   0%|          | 8/10000 [00:01<32:54,  5.06it/s]"
     ]
    },
    {
     "name": "stdout",
     "output_type": "stream",
     "text": [
      "8\n"
     ]
    },
    {
     "name": "stderr",
     "output_type": "stream",
     "text": [
      "Function value: 0.16579741 / Grad norm: 0.02641542:   0%|          | 16/10000 [00:03<28:03,  5.93it/s]"
     ]
    },
    {
     "name": "stdout",
     "output_type": "stream",
     "text": [
      "16\n"
     ]
    },
    {
     "name": "stderr",
     "output_type": "stream",
     "text": [
      "Function value: 0.15196617 / Grad norm: 0.00836008:   0%|          | 32/10000 [00:06<29:32,  5.62it/s]"
     ]
    },
    {
     "name": "stdout",
     "output_type": "stream",
     "text": [
      "32\n"
     ]
    },
    {
     "name": "stderr",
     "output_type": "stream",
     "text": [
      "Function value: 0.14646142 / Grad norm: 0.00406089:   1%|          | 52/10000 [00:10<33:53,  4.89it/s]\n"
     ]
    },
    {
     "ename": "KeyboardInterrupt",
     "evalue": "",
     "output_type": "error",
     "traceback": [
      "\u001b[1;31m---------------------------------------------------------------------------\u001b[0m",
      "\u001b[1;31mKeyboardInterrupt\u001b[0m                         Traceback (most recent call last)",
      "\u001b[1;32m<ipython-input-63-ccf77e8d0b3a>\u001b[0m in \u001b[0;36m<module>\u001b[1;34m\u001b[0m\n\u001b[0;32m     21\u001b[0m \u001b[0mhistory\u001b[0m\u001b[1;33m=\u001b[0m\u001b[1;32mNone\u001b[0m\u001b[1;33m\u001b[0m\u001b[1;33m\u001b[0m\u001b[0m\n\u001b[0;32m     22\u001b[0m \u001b[0mdecrease_gamma\u001b[0m\u001b[1;33m=\u001b[0m\u001b[1;32mTrue\u001b[0m\u001b[1;33m\u001b[0m\u001b[1;33m\u001b[0m\u001b[0m\n\u001b[1;32m---> 23\u001b[1;33m \u001b[0mcontracting_newton\u001b[0m\u001b[1;33m(\u001b[0m\u001b[0mparams\u001b[0m\u001b[1;33m,\u001b[0m \u001b[0mc_0\u001b[0m\u001b[1;33m,\u001b[0m \u001b[0mdecrease_gamma\u001b[0m\u001b[1;33m,\u001b[0m \u001b[1;32mTrue\u001b[0m\u001b[1;33m,\u001b[0m \u001b[0mhistory\u001b[0m\u001b[1;33m)\u001b[0m\u001b[1;33m\u001b[0m\u001b[1;33m\u001b[0m\u001b[0m\n\u001b[0m",
      "\u001b[1;32m<ipython-input-62-d7bd07746105>\u001b[0m in \u001b[0;36mcontracting_newton\u001b[1;34m(params, c_0, decrease_gamma, variance_reduction, history)\u001b[0m\n\u001b[0;32m    216\u001b[0m         \u001b[0mAx\u001b[0m \u001b[1;33m=\u001b[0m \u001b[0mparams\u001b[0m\u001b[1;33m[\u001b[0m\u001b[1;34m'A'\u001b[0m\u001b[1;33m]\u001b[0m\u001b[1;33m.\u001b[0m\u001b[0mdot\u001b[0m\u001b[1;33m(\u001b[0m\u001b[0mx_k\u001b[0m\u001b[1;33m)\u001b[0m\u001b[1;33m\u001b[0m\u001b[1;33m\u001b[0m\u001b[0m\n\u001b[0;32m    217\u001b[0m         \u001b[0mdata_accesses\u001b[0m \u001b[1;33m+=\u001b[0m \u001b[0mm\u001b[0m\u001b[1;33m\u001b[0m\u001b[1;33m\u001b[0m\u001b[0m\n\u001b[1;32m--> 218\u001b[1;33m         \u001b[0mpbar\u001b[0m\u001b[1;33m.\u001b[0m\u001b[0mset_description\u001b[0m\u001b[1;33m(\u001b[0m\u001b[1;34m'Function value: %.8f / Grad norm: %.8f'\u001b[0m\u001b[1;33m%\u001b[0m\u001b[1;33m(\u001b[0m\u001b[0mnp\u001b[0m\u001b[1;33m.\u001b[0m\u001b[0maverage\u001b[0m\u001b[1;33m(\u001b[0m\u001b[0mnp\u001b[0m\u001b[1;33m.\u001b[0m\u001b[0marray\u001b[0m\u001b[1;33m(\u001b[0m\u001b[1;33m[\u001b[0m\u001b[0mLog_one_exp\u001b[0m\u001b[1;33m(\u001b[0m\u001b[0max\u001b[0m\u001b[1;33m)\u001b[0m \u001b[1;32mfor\u001b[0m \u001b[0max\u001b[0m \u001b[1;32min\u001b[0m \u001b[0mparams\u001b[0m\u001b[1;33m[\u001b[0m\u001b[1;34m'A'\u001b[0m\u001b[1;33m]\u001b[0m\u001b[1;33m@\u001b[0m\u001b[0mx_k\u001b[0m\u001b[1;33m]\u001b[0m\u001b[1;33m)\u001b[0m\u001b[1;33m)\u001b[0m\u001b[1;33m+\u001b[0m\u001b[0minv_m\u001b[0m\u001b[1;33m*\u001b[0m\u001b[0mparams\u001b[0m\u001b[1;33m[\u001b[0m\u001b[1;34m'lambda'\u001b[0m\u001b[1;33m]\u001b[0m\u001b[1;33m*\u001b[0m\u001b[0mnp\u001b[0m\u001b[1;33m.\u001b[0m\u001b[0mlinalg\u001b[0m\u001b[1;33m.\u001b[0m\u001b[0mnorm\u001b[0m\u001b[1;33m(\u001b[0m\u001b[0mx_k\u001b[0m\u001b[1;33m)\u001b[0m\u001b[1;33m**\u001b[0m\u001b[1;36m2\u001b[0m\u001b[1;33m,\u001b[0m\u001b[0mgrad_norm\u001b[0m\u001b[1;33m)\u001b[0m\u001b[1;33m)\u001b[0m\u001b[1;33m\u001b[0m\u001b[1;33m\u001b[0m\u001b[0m\n\u001b[0m\u001b[0;32m    219\u001b[0m         \u001b[1;31m# print(\"function value:\",np.average(np.log(1+np.exp(-params['b']*(params['A_o']@x_k))))+inv_m*params['lambda']*np.linalg.norm(x_k)**2)\u001b[0m\u001b[1;33m\u001b[0m\u001b[1;33m\u001b[0m\u001b[1;33m\u001b[0m\u001b[0m\n\u001b[0;32m    220\u001b[0m     \u001b[0mprint\u001b[0m\u001b[1;33m(\u001b[0m\u001b[1;34m\"Done.\"\u001b[0m\u001b[1;33m)\u001b[0m\u001b[1;33m\u001b[0m\u001b[1;33m\u001b[0m\u001b[0m\n",
      "\u001b[1;32m<ipython-input-62-d7bd07746105>\u001b[0m in \u001b[0;36m<listcomp>\u001b[1;34m(.0)\u001b[0m\n\u001b[0;32m    216\u001b[0m         \u001b[0mAx\u001b[0m \u001b[1;33m=\u001b[0m \u001b[0mparams\u001b[0m\u001b[1;33m[\u001b[0m\u001b[1;34m'A'\u001b[0m\u001b[1;33m]\u001b[0m\u001b[1;33m.\u001b[0m\u001b[0mdot\u001b[0m\u001b[1;33m(\u001b[0m\u001b[0mx_k\u001b[0m\u001b[1;33m)\u001b[0m\u001b[1;33m\u001b[0m\u001b[1;33m\u001b[0m\u001b[0m\n\u001b[0;32m    217\u001b[0m         \u001b[0mdata_accesses\u001b[0m \u001b[1;33m+=\u001b[0m \u001b[0mm\u001b[0m\u001b[1;33m\u001b[0m\u001b[1;33m\u001b[0m\u001b[0m\n\u001b[1;32m--> 218\u001b[1;33m         \u001b[0mpbar\u001b[0m\u001b[1;33m.\u001b[0m\u001b[0mset_description\u001b[0m\u001b[1;33m(\u001b[0m\u001b[1;34m'Function value: %.8f / Grad norm: %.8f'\u001b[0m\u001b[1;33m%\u001b[0m\u001b[1;33m(\u001b[0m\u001b[0mnp\u001b[0m\u001b[1;33m.\u001b[0m\u001b[0maverage\u001b[0m\u001b[1;33m(\u001b[0m\u001b[0mnp\u001b[0m\u001b[1;33m.\u001b[0m\u001b[0marray\u001b[0m\u001b[1;33m(\u001b[0m\u001b[1;33m[\u001b[0m\u001b[0mLog_one_exp\u001b[0m\u001b[1;33m(\u001b[0m\u001b[0max\u001b[0m\u001b[1;33m)\u001b[0m \u001b[1;32mfor\u001b[0m \u001b[0max\u001b[0m \u001b[1;32min\u001b[0m \u001b[0mparams\u001b[0m\u001b[1;33m[\u001b[0m\u001b[1;34m'A'\u001b[0m\u001b[1;33m]\u001b[0m\u001b[1;33m@\u001b[0m\u001b[0mx_k\u001b[0m\u001b[1;33m]\u001b[0m\u001b[1;33m)\u001b[0m\u001b[1;33m)\u001b[0m\u001b[1;33m+\u001b[0m\u001b[0minv_m\u001b[0m\u001b[1;33m*\u001b[0m\u001b[0mparams\u001b[0m\u001b[1;33m[\u001b[0m\u001b[1;34m'lambda'\u001b[0m\u001b[1;33m]\u001b[0m\u001b[1;33m*\u001b[0m\u001b[0mnp\u001b[0m\u001b[1;33m.\u001b[0m\u001b[0mlinalg\u001b[0m\u001b[1;33m.\u001b[0m\u001b[0mnorm\u001b[0m\u001b[1;33m(\u001b[0m\u001b[0mx_k\u001b[0m\u001b[1;33m)\u001b[0m\u001b[1;33m**\u001b[0m\u001b[1;36m2\u001b[0m\u001b[1;33m,\u001b[0m\u001b[0mgrad_norm\u001b[0m\u001b[1;33m)\u001b[0m\u001b[1;33m)\u001b[0m\u001b[1;33m\u001b[0m\u001b[1;33m\u001b[0m\u001b[0m\n\u001b[0m\u001b[0;32m    219\u001b[0m         \u001b[1;31m# print(\"function value:\",np.average(np.log(1+np.exp(-params['b']*(params['A_o']@x_k))))+inv_m*params['lambda']*np.linalg.norm(x_k)**2)\u001b[0m\u001b[1;33m\u001b[0m\u001b[1;33m\u001b[0m\u001b[1;33m\u001b[0m\u001b[0m\n\u001b[0;32m    220\u001b[0m     \u001b[0mprint\u001b[0m\u001b[1;33m(\u001b[0m\u001b[1;34m\"Done.\"\u001b[0m\u001b[1;33m)\u001b[0m\u001b[1;33m\u001b[0m\u001b[1;33m\u001b[0m\u001b[0m\n",
      "\u001b[1;32m<ipython-input-62-d7bd07746105>\u001b[0m in \u001b[0;36mLog_one_exp\u001b[1;34m(inner)\u001b[0m\n\u001b[0;32m    136\u001b[0m         \u001b[1;32mreturn\u001b[0m \u001b[0minner\u001b[0m \u001b[1;33m+\u001b[0m \u001b[0mnp\u001b[0m\u001b[1;33m.\u001b[0m\u001b[0mlog\u001b[0m\u001b[1;33m(\u001b[0m\u001b[1;36m1\u001b[0m \u001b[1;33m+\u001b[0m \u001b[0mnp\u001b[0m\u001b[1;33m.\u001b[0m\u001b[0mexp\u001b[0m\u001b[1;33m(\u001b[0m\u001b[1;33m-\u001b[0m\u001b[0minner\u001b[0m\u001b[1;33m)\u001b[0m\u001b[1;33m)\u001b[0m\u001b[1;33m\u001b[0m\u001b[1;33m\u001b[0m\u001b[0m\n\u001b[0;32m    137\u001b[0m     \u001b[1;32melse\u001b[0m\u001b[1;33m:\u001b[0m\u001b[1;33m\u001b[0m\u001b[1;33m\u001b[0m\u001b[0m\n\u001b[1;32m--> 138\u001b[1;33m         \u001b[1;32mreturn\u001b[0m \u001b[0mnp\u001b[0m\u001b[1;33m.\u001b[0m\u001b[0mlog\u001b[0m\u001b[1;33m(\u001b[0m\u001b[1;36m1\u001b[0m \u001b[1;33m+\u001b[0m \u001b[0mnp\u001b[0m\u001b[1;33m.\u001b[0m\u001b[0mexp\u001b[0m\u001b[1;33m(\u001b[0m\u001b[0minner\u001b[0m\u001b[1;33m)\u001b[0m\u001b[1;33m)\u001b[0m\u001b[1;33m\u001b[0m\u001b[1;33m\u001b[0m\u001b[0m\n\u001b[0m\u001b[0;32m    139\u001b[0m \u001b[1;32mdef\u001b[0m \u001b[0mcontracting_newton\u001b[0m\u001b[1;33m(\u001b[0m\u001b[0mparams\u001b[0m\u001b[1;33m,\u001b[0m \u001b[0mc_0\u001b[0m\u001b[1;33m,\u001b[0m \u001b[0mdecrease_gamma\u001b[0m\u001b[1;33m,\u001b[0m \u001b[0mvariance_reduction\u001b[0m\u001b[1;33m,\u001b[0m \u001b[0mhistory\u001b[0m\u001b[1;33m)\u001b[0m\u001b[1;33m:\u001b[0m\u001b[1;33m\u001b[0m\u001b[1;33m\u001b[0m\u001b[0m\n\u001b[0;32m    140\u001b[0m     \u001b[1;31m# start_time = time.perf_counter()\u001b[0m\u001b[1;33m\u001b[0m\u001b[1;33m\u001b[0m\u001b[1;33m\u001b[0m\u001b[0m\n",
      "\u001b[1;31mKeyboardInterrupt\u001b[0m: "
     ]
    }
   ],
   "source": [
    "b, A = read_data('w8a')\n",
    "# b, A = read_data('ijcnn1.test')\n",
    "# b, A = read_data('a9a.test')\n",
    "# b, A = read_data('CINA.test')\n",
    "m,n = A.shape\n",
    "print(m,n)\n",
    "# b=np.expand_dims(b, axis=1)\n",
    "params=dict()\n",
    "params['A']=-np.multiply(b,A.T).T\n",
    "params['A_o']=A\n",
    "params['b']=b\n",
    "# print(params['A'][0,:])\n",
    "print(np.sum(A==params['A']))\n",
    "params['x_0']=np.zeros(n)\n",
    "c_0 = 3.0\n",
    "params['R']=10\n",
    "params['inner_eps']=1e-7\n",
    "params['outer_eps']=1e-4\n",
    "params['n_iters']=10000\n",
    "params['lambda']=0.01\n",
    "history=None\n",
    "decrease_gamma=True\n",
    "contracting_newton(params, c_0, decrease_gamma, True, history)"
   ]
  }
 ],
 "metadata": {
  "kernelspec": {
   "display_name": "base",
   "language": "python",
   "name": "python3"
  },
  "language_info": {
   "codemirror_mode": {
    "name": "ipython",
    "version": 3
   },
   "file_extension": ".py",
   "mimetype": "text/x-python",
   "name": "python",
   "nbconvert_exporter": "python",
   "pygments_lexer": "ipython3",
   "version": "3.8.8"
  },
  "orig_nbformat": 4,
  "vscode": {
   "interpreter": {
    "hash": "734ab24b5d337aa3083f37141e45635523032b38e37867a0b0460a6855b4b5f7"
   }
  }
 },
 "nbformat": 4,
 "nbformat_minor": 2
}
